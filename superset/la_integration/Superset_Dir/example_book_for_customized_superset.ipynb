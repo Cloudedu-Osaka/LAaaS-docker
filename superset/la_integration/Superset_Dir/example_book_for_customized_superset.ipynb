{
 "cells": [
  {
   "cell_type": "code",
   "execution_count": 1,
   "metadata": {},
   "outputs": [],
   "source": [
    "import pymongo,json,csv,os"
   ]
  },
  {
   "cell_type": "code",
   "execution_count": 2,
   "metadata": {},
   "outputs": [],
   "source": [
    "from pymongo import MongoClient"
   ]
  },
  {
   "cell_type": "code",
   "execution_count": 3,
   "metadata": {},
   "outputs": [],
   "source": [
    "client = MongoClient('mongodb://learning_locker:27017/learninglocker')"
   ]
  },
  {
   "cell_type": "code",
   "execution_count": 4,
   "metadata": {},
   "outputs": [],
   "source": [
    "db = client.learninglocker"
   ]
  },
  {
   "cell_type": "code",
   "execution_count": 12,
   "metadata": {},
   "outputs": [],
   "source": [
    "env_var = os.environ.get('ENV_VAR', 'course_name')"
   ]
  },
  {
   "cell_type": "code",
   "execution_count": 17,
   "metadata": {},
   "outputs": [
    {
     "name": "stdout",
     "output_type": "stream",
     "text": [
      "テスト用コース\n"
     ]
    }
   ],
   "source": [
    "print(env_var)"
   ]
  },
  {
   "cell_type": "code",
   "execution_count": 18,
   "metadata": {},
   "outputs": [],
   "source": [
    "json_data = db.statements.find({\"statement.context.contextActivities.grouping.definition.name.en\":\"\"+env_var+\"\"},{'lrs_id':1,'client_id':2,'timestamp':3,'_id':0})"
   ]
  },
  {
   "cell_type": "code",
   "execution_count": 19,
   "metadata": {},
   "outputs": [
    {
     "name": "stdout",
     "output_type": "stream",
     "text": [
      "['timestamp', 'lrs_id', 'client_id']\n",
      "{u'timestamp': datetime.datetime(2019, 3, 15, 8, 7, 53, 946000), u'lrs_id': ObjectId('5c8b5cec50fa0822008b4567'), u'client_id': u'5c8b5cec50fa0822008b4568'}\n",
      "{u'timestamp': datetime.datetime(2019, 3, 15, 8, 8, 1, 405000), u'lrs_id': ObjectId('5c8b5cec50fa0822008b4567'), u'client_id': u'5c8b5cec50fa0822008b4568'}\n"
     ]
    }
   ],
   "source": [
    "with open(\"/root/Superset_Dir/csv-folder/test1csvtable.csv\",\"w\") as f:\n",
    "    title = \"timestamp,lrs_id,client_id\".split(\",\")      \n",
    "    print(title)\n",
    "    cw = csv.DictWriter(f,title,delimiter=',', quotechar='|', quoting=csv.QUOTE_MINIMAL)\n",
    "    cw.writeheader()\n",
    "    for document in json_data:\n",
    "        print(document)\n",
    "        cw.writerow(document)"
   ]
  }
 ],
 "metadata": {
  "kernelspec": {
   "display_name": "Python 2",
   "language": "python",
   "name": "python2"
  },
  "language_info": {
   "codemirror_mode": {
    "name": "ipython",
    "version": 2
   },
   "file_extension": ".py",
   "mimetype": "text/x-python",
   "name": "python",
   "nbconvert_exporter": "python",
   "pygments_lexer": "ipython2",
   "version": "2.7.15"
  }
 },
 "nbformat": 4,
 "nbformat_minor": 2
}
