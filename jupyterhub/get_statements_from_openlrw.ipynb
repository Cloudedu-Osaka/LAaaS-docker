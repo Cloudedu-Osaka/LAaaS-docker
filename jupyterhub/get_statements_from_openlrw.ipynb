{
 "cells": [
  {
   "cell_type": "code",
   "execution_count": null,
   "metadata": {},
   "outputs": [],
   "source": [
    "import json\n",
    "import requests\n",
    "\n",
    "url = 'http://openlrw:9966/api/auth/login'\n",
    "\n",
    "headers = {\n",
    "    'X-Requested-With': 'XMLHttpRequest',\n",
    "    'Content-Type': 'application/json',\n",
    "    'Cache-Control': 'no-cache'\n",
    "}\n",
    "\n",
    "data = {\n",
    "    'username': '<apiKey>',\n",
    "    'password': '<apiSecret>'\n",
    "}\n",
    "\n",
    "res = requests.post(url=url, data=json.dumps(data), headers=headers)\n",
    "print(res.text)"
   ]
  },
  {
   "cell_type": "code",
   "execution_count": null,
   "metadata": {},
   "outputs": [],
   "source": [
    "import json\n",
    "import requests\n",
    "\n",
    "url = 'http://openlrw:9966/api/users/2/events'\n",
    "\n",
    "headers = {\n",
    "    'X-Requested-With': 'XMLHttpRequest',\n",
    "    'Content-Type': 'application/json',\n",
    "    'Cache-Control': 'no-cache',\n",
    "    'Authorization': '<JWT token>'\n",
    "}\n",
    "\n",
    "res = requests.get(url=url, headers=headers)\n",
    "print(res.text)"
   ]
  }
 ],
 "metadata": {
  "kernelspec": {
   "display_name": "Python 3",
   "language": "python",
   "name": "python3"
  },
  "language_info": {
   "codemirror_mode": {
    "name": "ipython",
    "version": 3
   },
   "file_extension": ".py",
   "mimetype": "text/x-python",
   "name": "python",
   "nbconvert_exporter": "python",
   "pygments_lexer": "ipython3",
   "version": "3.7.1"
  }
 },
 "nbformat": 4,
 "nbformat_minor": 2
}
